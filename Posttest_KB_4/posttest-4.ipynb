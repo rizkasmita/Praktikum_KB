{
 "cells": [
  {
   "cell_type": "markdown",
   "id": "0cbe1d05-1fed-46dd-bc46-2f2747079035",
   "metadata": {},
   "source": [
    "link dataset: https://www.kaggle.com/datasets/iammustafatz/diabetes-prediction-dataset"
   ]
  },
  {
   "cell_type": "code",
   "execution_count": 42,
   "id": "e79b6000-a8cb-4740-a641-8208425852de",
   "metadata": {},
   "outputs": [],
   "source": [
    "import pandas as pd"
   ]
  },
  {
   "cell_type": "code",
   "execution_count": 43,
   "id": "2d28e5e7-18b3-4d5e-bf81-e5154bc961a5",
   "metadata": {},
   "outputs": [],
   "source": [
    "df = pd.read_csv('../diabetes_prediction_dataset.csv')"
   ]
  },
  {
   "cell_type": "code",
   "execution_count": 44,
   "id": "d9f4472f-d950-4198-9a9e-eebba4abef78",
   "metadata": {},
   "outputs": [
    {
     "data": {
      "text/html": [
       "<div>\n",
       "<style scoped>\n",
       "    .dataframe tbody tr th:only-of-type {\n",
       "        vertical-align: middle;\n",
       "    }\n",
       "\n",
       "    .dataframe tbody tr th {\n",
       "        vertical-align: top;\n",
       "    }\n",
       "\n",
       "    .dataframe thead th {\n",
       "        text-align: right;\n",
       "    }\n",
       "</style>\n",
       "<table border=\"1\" class=\"dataframe\">\n",
       "  <thead>\n",
       "    <tr style=\"text-align: right;\">\n",
       "      <th></th>\n",
       "      <th>gender</th>\n",
       "      <th>age</th>\n",
       "      <th>hypertension</th>\n",
       "      <th>heart_disease</th>\n",
       "      <th>smoking_history</th>\n",
       "      <th>bmi</th>\n",
       "      <th>HbA1c_level</th>\n",
       "      <th>blood_glucose_level</th>\n",
       "      <th>diabetes</th>\n",
       "    </tr>\n",
       "  </thead>\n",
       "  <tbody>\n",
       "    <tr>\n",
       "      <th>0</th>\n",
       "      <td>Female</td>\n",
       "      <td>80.0</td>\n",
       "      <td>0</td>\n",
       "      <td>1</td>\n",
       "      <td>never</td>\n",
       "      <td>25.19</td>\n",
       "      <td>6.6</td>\n",
       "      <td>140</td>\n",
       "      <td>0</td>\n",
       "    </tr>\n",
       "    <tr>\n",
       "      <th>1</th>\n",
       "      <td>Female</td>\n",
       "      <td>54.0</td>\n",
       "      <td>0</td>\n",
       "      <td>0</td>\n",
       "      <td>No Info</td>\n",
       "      <td>27.32</td>\n",
       "      <td>6.6</td>\n",
       "      <td>80</td>\n",
       "      <td>0</td>\n",
       "    </tr>\n",
       "    <tr>\n",
       "      <th>2</th>\n",
       "      <td>Male</td>\n",
       "      <td>28.0</td>\n",
       "      <td>0</td>\n",
       "      <td>0</td>\n",
       "      <td>never</td>\n",
       "      <td>27.32</td>\n",
       "      <td>5.7</td>\n",
       "      <td>158</td>\n",
       "      <td>0</td>\n",
       "    </tr>\n",
       "    <tr>\n",
       "      <th>3</th>\n",
       "      <td>Female</td>\n",
       "      <td>36.0</td>\n",
       "      <td>0</td>\n",
       "      <td>0</td>\n",
       "      <td>current</td>\n",
       "      <td>23.45</td>\n",
       "      <td>5.0</td>\n",
       "      <td>155</td>\n",
       "      <td>0</td>\n",
       "    </tr>\n",
       "    <tr>\n",
       "      <th>4</th>\n",
       "      <td>Male</td>\n",
       "      <td>76.0</td>\n",
       "      <td>1</td>\n",
       "      <td>1</td>\n",
       "      <td>current</td>\n",
       "      <td>20.14</td>\n",
       "      <td>4.8</td>\n",
       "      <td>155</td>\n",
       "      <td>0</td>\n",
       "    </tr>\n",
       "  </tbody>\n",
       "</table>\n",
       "</div>"
      ],
      "text/plain": [
       "   gender   age  hypertension  heart_disease smoking_history    bmi  \\\n",
       "0  Female  80.0             0              1           never  25.19   \n",
       "1  Female  54.0             0              0         No Info  27.32   \n",
       "2    Male  28.0             0              0           never  27.32   \n",
       "3  Female  36.0             0              0         current  23.45   \n",
       "4    Male  76.0             1              1         current  20.14   \n",
       "\n",
       "   HbA1c_level  blood_glucose_level  diabetes  \n",
       "0          6.6                  140         0  \n",
       "1          6.6                   80         0  \n",
       "2          5.7                  158         0  \n",
       "3          5.0                  155         0  \n",
       "4          4.8                  155         0  "
      ]
     },
     "execution_count": 44,
     "metadata": {},
     "output_type": "execute_result"
    }
   ],
   "source": [
    "df.head()"
   ]
  },
  {
   "cell_type": "markdown",
   "id": "0f013f17-1e76-4904-9b4d-890b349901e6",
   "metadata": {},
   "source": [
    " ## **bagi dataset menjadi training set dan testing set dengan proporsi 70:30**"
   ]
  },
  {
   "cell_type": "code",
   "execution_count": 45,
   "id": "3718991d-cc77-4cad-928e-c0bd2f0caf9c",
   "metadata": {},
   "outputs": [],
   "source": [
    "from sklearn.model_selection import train_test_split"
   ]
  },
  {
   "cell_type": "code",
   "execution_count": 46,
   "id": "9e334924-6ad2-4e04-ae69-80a8cbaf4a59",
   "metadata": {},
   "outputs": [],
   "source": [
    "x = df.drop(\"diabetes\", axis=1) # feature\n",
    "y = df['diabetes'] # target"
   ]
  },
  {
   "cell_type": "code",
   "execution_count": 47,
   "id": "d91dce69-d497-4685-96e5-0616c585f77e",
   "metadata": {},
   "outputs": [],
   "source": [
    "x_train, x_test, y_train, y_test = train_test_split(x, y, test_size=0.3)\n",
    "# train = 70% dan test = 30%"
   ]
  },
  {
   "cell_type": "code",
   "execution_count": 48,
   "id": "78ff2cfb-557f-4eac-94c3-200de9d19412",
   "metadata": {},
   "outputs": [
    {
     "name": "stdout",
     "output_type": "stream",
     "text": [
      "Dimensi x_train:  (70000, 8)\n",
      "Dimensi x_test:  (30000, 8)\n",
      "Dimensi y_train:  (70000,)\n",
      "Dimensi y_test:  (30000,)\n"
     ]
    }
   ],
   "source": [
    "print(\"Dimensi x_train: \", x_train.shape)\n",
    "print(\"Dimensi x_test: \", x_test.shape)\n",
    "print(\"Dimensi y_train: \", y_train.shape)\n",
    "print(\"Dimensi y_test: \", y_test.shape)"
   ]
  },
  {
   "cell_type": "markdown",
   "id": "f0dc5879-686b-492e-af8a-06c4aa12d29d",
   "metadata": {},
   "source": [
    "## **lakukan normalisasi pada dataset**"
   ]
  },
  {
   "cell_type": "code",
   "execution_count": 49,
   "id": "e626398d-b327-4a05-925f-236bdb7d4fbe",
   "metadata": {},
   "outputs": [],
   "source": [
    "from sklearn.preprocessing import MinMaxScaler"
   ]
  },
  {
   "cell_type": "code",
   "execution_count": 50,
   "id": "ed64205d-0981-497d-bae2-9fbe2770fe1e",
   "metadata": {},
   "outputs": [],
   "source": [
    "dfMM = df.copy()"
   ]
  },
  {
   "cell_type": "code",
   "execution_count": 51,
   "id": "7dc2d7df-f3d8-4327-aef7-023da1931e89",
   "metadata": {},
   "outputs": [],
   "source": [
    "mm = MinMaxScaler()"
   ]
  },
  {
   "cell_type": "code",
   "execution_count": 52,
   "id": "386d7168-c1ad-4f9f-bcb5-8d28ee64e75b",
   "metadata": {},
   "outputs": [],
   "source": [
    "dfMM[['HbA1c_level', 'blood_glucose_level']] = mm.fit_transform(dfMM[['HbA1c_level', 'blood_glucose_level']])"
   ]
  },
  {
   "cell_type": "code",
   "execution_count": 53,
   "id": "c08b16d7-d5b3-4b27-b103-4fe427b80220",
   "metadata": {},
   "outputs": [
    {
     "name": "stdout",
     "output_type": "stream",
     "text": [
      "Nilai Max:  1.0\n",
      "Nilai Min:  0.0\n"
     ]
    }
   ],
   "source": [
    "print(\"Nilai Max: \", dfMM['HbA1c_level'].max())\n",
    "print(\"Nilai Min: \", dfMM['HbA1c_level'].min())"
   ]
  },
  {
   "cell_type": "code",
   "execution_count": 54,
   "id": "37dd30f7-6937-4812-a7b1-309b97d25bae",
   "metadata": {},
   "outputs": [
    {
     "data": {
      "text/html": [
       "<div>\n",
       "<style scoped>\n",
       "    .dataframe tbody tr th:only-of-type {\n",
       "        vertical-align: middle;\n",
       "    }\n",
       "\n",
       "    .dataframe tbody tr th {\n",
       "        vertical-align: top;\n",
       "    }\n",
       "\n",
       "    .dataframe thead th {\n",
       "        text-align: right;\n",
       "    }\n",
       "</style>\n",
       "<table border=\"1\" class=\"dataframe\">\n",
       "  <thead>\n",
       "    <tr style=\"text-align: right;\">\n",
       "      <th></th>\n",
       "      <th>HbA1c_level</th>\n",
       "      <th>blood_glucose_level</th>\n",
       "    </tr>\n",
       "  </thead>\n",
       "  <tbody>\n",
       "    <tr>\n",
       "      <th>0</th>\n",
       "      <td>0.563636</td>\n",
       "      <td>0.272727</td>\n",
       "    </tr>\n",
       "    <tr>\n",
       "      <th>1</th>\n",
       "      <td>0.563636</td>\n",
       "      <td>0.000000</td>\n",
       "    </tr>\n",
       "    <tr>\n",
       "      <th>2</th>\n",
       "      <td>0.400000</td>\n",
       "      <td>0.354545</td>\n",
       "    </tr>\n",
       "    <tr>\n",
       "      <th>3</th>\n",
       "      <td>0.272727</td>\n",
       "      <td>0.340909</td>\n",
       "    </tr>\n",
       "    <tr>\n",
       "      <th>4</th>\n",
       "      <td>0.236364</td>\n",
       "      <td>0.340909</td>\n",
       "    </tr>\n",
       "    <tr>\n",
       "      <th>...</th>\n",
       "      <td>...</td>\n",
       "      <td>...</td>\n",
       "    </tr>\n",
       "    <tr>\n",
       "      <th>99995</th>\n",
       "      <td>0.490909</td>\n",
       "      <td>0.045455</td>\n",
       "    </tr>\n",
       "    <tr>\n",
       "      <th>99996</th>\n",
       "      <td>0.545455</td>\n",
       "      <td>0.090909</td>\n",
       "    </tr>\n",
       "    <tr>\n",
       "      <th>99997</th>\n",
       "      <td>0.400000</td>\n",
       "      <td>0.340909</td>\n",
       "    </tr>\n",
       "    <tr>\n",
       "      <th>99998</th>\n",
       "      <td>0.090909</td>\n",
       "      <td>0.090909</td>\n",
       "    </tr>\n",
       "    <tr>\n",
       "      <th>99999</th>\n",
       "      <td>0.563636</td>\n",
       "      <td>0.045455</td>\n",
       "    </tr>\n",
       "  </tbody>\n",
       "</table>\n",
       "<p>100000 rows × 2 columns</p>\n",
       "</div>"
      ],
      "text/plain": [
       "       HbA1c_level  blood_glucose_level\n",
       "0         0.563636             0.272727\n",
       "1         0.563636             0.000000\n",
       "2         0.400000             0.354545\n",
       "3         0.272727             0.340909\n",
       "4         0.236364             0.340909\n",
       "...            ...                  ...\n",
       "99995     0.490909             0.045455\n",
       "99996     0.545455             0.090909\n",
       "99997     0.400000             0.340909\n",
       "99998     0.090909             0.090909\n",
       "99999     0.563636             0.045455\n",
       "\n",
       "[100000 rows x 2 columns]"
      ]
     },
     "execution_count": 54,
     "metadata": {},
     "output_type": "execute_result"
    }
   ],
   "source": [
    "dfMM[['HbA1c_level', 'blood_glucose_level']]"
   ]
  },
  {
   "cell_type": "markdown",
   "id": "a0bfc391-5bd4-406e-823e-89886d285c6e",
   "metadata": {},
   "source": [
    "## **lakukan standarisasi pada dataset**"
   ]
  },
  {
   "cell_type": "code",
   "execution_count": 55,
   "id": "acd4e2ed-de1c-42bc-a4e2-e505a5fb5810",
   "metadata": {},
   "outputs": [],
   "source": [
    "from sklearn.preprocessing import StandardScaler\n",
    "import numpy as np"
   ]
  },
  {
   "cell_type": "code",
   "execution_count": 56,
   "id": "2c297325-aaec-44dc-b0ce-33eefddef3a9",
   "metadata": {},
   "outputs": [],
   "source": [
    "dfSS = df.copy()"
   ]
  },
  {
   "cell_type": "code",
   "execution_count": 57,
   "id": "bdeeb2b0-5d88-40d2-958a-422f22b1ebad",
   "metadata": {},
   "outputs": [],
   "source": [
    "ss = StandardScaler()\n",
    "scaled_data = ss.fit_transform(dfSS[['HbA1c_level', 'blood_glucose_level']])"
   ]
  },
  {
   "cell_type": "code",
   "execution_count": 58,
   "id": "a8024cf9-8cce-4e6f-9b6d-d3b74519d912",
   "metadata": {},
   "outputs": [
    {
     "name": "stdout",
     "output_type": "stream",
     "text": [
      "Nilai sesudah scaling:\n",
      "[[ 1.00170572  0.04770422]\n",
      " [ 1.00170572 -1.42620999]\n",
      " [ 0.16110802  0.48987848]\n",
      " ...\n",
      " [ 0.16110802  0.41618277]\n",
      " [-1.42668764 -0.93490525]\n",
      " [ 1.00170572 -1.18055762]]\n",
      "\n",
      "Nilai rata-rata:  -1.411493144587439e-16\n",
      "Nilai standar deviasi:  0.9999999999999999\n"
     ]
    }
   ],
   "source": [
    "print(\"Nilai sesudah scaling:\")\n",
    "print(scaled_data)\n",
    "print(\"\\nNilai rata-rata: \", np.mean(scaled_data))\n",
    "print(\"Nilai standar deviasi: \", np.std(scaled_data))"
   ]
  },
  {
   "cell_type": "markdown",
   "id": "2c401ec4-0aaa-4450-b571-34a6e0dcbce0",
   "metadata": {},
   "source": [
    "## **lakukan data cleaning pada data dengan nilai null**"
   ]
  },
  {
   "cell_type": "code",
   "execution_count": 59,
   "id": "f5303a19-de98-4809-aa00-6a57a9206c49",
   "metadata": {},
   "outputs": [],
   "source": [
    "dfDCNull = df.copy()"
   ]
  },
  {
   "cell_type": "code",
   "execution_count": 60,
   "id": "de83edec-25c2-4604-b90f-4e7e9e005f9d",
   "metadata": {},
   "outputs": [
    {
     "data": {
      "text/html": [
       "<div>\n",
       "<style scoped>\n",
       "    .dataframe tbody tr th:only-of-type {\n",
       "        vertical-align: middle;\n",
       "    }\n",
       "\n",
       "    .dataframe tbody tr th {\n",
       "        vertical-align: top;\n",
       "    }\n",
       "\n",
       "    .dataframe thead th {\n",
       "        text-align: right;\n",
       "    }\n",
       "</style>\n",
       "<table border=\"1\" class=\"dataframe\">\n",
       "  <thead>\n",
       "    <tr style=\"text-align: right;\">\n",
       "      <th></th>\n",
       "      <th>gender</th>\n",
       "      <th>age</th>\n",
       "      <th>hypertension</th>\n",
       "      <th>heart_disease</th>\n",
       "      <th>smoking_history</th>\n",
       "      <th>bmi</th>\n",
       "      <th>HbA1c_level</th>\n",
       "      <th>blood_glucose_level</th>\n",
       "      <th>diabetes</th>\n",
       "    </tr>\n",
       "  </thead>\n",
       "  <tbody>\n",
       "    <tr>\n",
       "      <th>0</th>\n",
       "      <td>Female</td>\n",
       "      <td>80.0</td>\n",
       "      <td>0</td>\n",
       "      <td>1</td>\n",
       "      <td>never</td>\n",
       "      <td>25.19</td>\n",
       "      <td>6.6</td>\n",
       "      <td>140</td>\n",
       "      <td>0</td>\n",
       "    </tr>\n",
       "    <tr>\n",
       "      <th>1</th>\n",
       "      <td>Female</td>\n",
       "      <td>54.0</td>\n",
       "      <td>0</td>\n",
       "      <td>0</td>\n",
       "      <td>No Info</td>\n",
       "      <td>27.32</td>\n",
       "      <td>6.6</td>\n",
       "      <td>80</td>\n",
       "      <td>0</td>\n",
       "    </tr>\n",
       "    <tr>\n",
       "      <th>2</th>\n",
       "      <td>Male</td>\n",
       "      <td>28.0</td>\n",
       "      <td>0</td>\n",
       "      <td>0</td>\n",
       "      <td>never</td>\n",
       "      <td>27.32</td>\n",
       "      <td>5.7</td>\n",
       "      <td>158</td>\n",
       "      <td>0</td>\n",
       "    </tr>\n",
       "    <tr>\n",
       "      <th>3</th>\n",
       "      <td>Female</td>\n",
       "      <td>36.0</td>\n",
       "      <td>0</td>\n",
       "      <td>0</td>\n",
       "      <td>current</td>\n",
       "      <td>23.45</td>\n",
       "      <td>5.0</td>\n",
       "      <td>155</td>\n",
       "      <td>0</td>\n",
       "    </tr>\n",
       "    <tr>\n",
       "      <th>4</th>\n",
       "      <td>Male</td>\n",
       "      <td>76.0</td>\n",
       "      <td>1</td>\n",
       "      <td>1</td>\n",
       "      <td>current</td>\n",
       "      <td>20.14</td>\n",
       "      <td>4.8</td>\n",
       "      <td>155</td>\n",
       "      <td>0</td>\n",
       "    </tr>\n",
       "  </tbody>\n",
       "</table>\n",
       "</div>"
      ],
      "text/plain": [
       "   gender   age  hypertension  heart_disease smoking_history    bmi  \\\n",
       "0  Female  80.0             0              1           never  25.19   \n",
       "1  Female  54.0             0              0         No Info  27.32   \n",
       "2    Male  28.0             0              0           never  27.32   \n",
       "3  Female  36.0             0              0         current  23.45   \n",
       "4    Male  76.0             1              1         current  20.14   \n",
       "\n",
       "   HbA1c_level  blood_glucose_level  diabetes  \n",
       "0          6.6                  140         0  \n",
       "1          6.6                   80         0  \n",
       "2          5.7                  158         0  \n",
       "3          5.0                  155         0  \n",
       "4          4.8                  155         0  "
      ]
     },
     "execution_count": 60,
     "metadata": {},
     "output_type": "execute_result"
    }
   ],
   "source": [
    "dfDCNull.head()"
   ]
  },
  {
   "cell_type": "code",
   "execution_count": 61,
   "id": "9d147219-2480-4383-aa8a-18667b8c1d05",
   "metadata": {},
   "outputs": [
    {
     "data": {
      "text/plain": [
       "gender                 False\n",
       "age                    False\n",
       "hypertension           False\n",
       "heart_disease          False\n",
       "smoking_history        False\n",
       "bmi                    False\n",
       "HbA1c_level            False\n",
       "blood_glucose_level    False\n",
       "diabetes               False\n",
       "dtype: bool"
      ]
     },
     "execution_count": 61,
     "metadata": {},
     "output_type": "execute_result"
    }
   ],
   "source": [
    "dfDCNull.isna().any()"
   ]
  },
  {
   "cell_type": "markdown",
   "id": "90c0ae97-04b8-4c81-a623-2d0d7b048f70",
   "metadata": {},
   "source": [
    "#### membuat data null dengan menimpa baris 0 menjadi null"
   ]
  },
  {
   "cell_type": "code",
   "execution_count": 62,
   "id": "5c085ddf-fa0d-429f-92a3-c27f5f3469c1",
   "metadata": {},
   "outputs": [
    {
     "data": {
      "text/html": [
       "<div>\n",
       "<style scoped>\n",
       "    .dataframe tbody tr th:only-of-type {\n",
       "        vertical-align: middle;\n",
       "    }\n",
       "\n",
       "    .dataframe tbody tr th {\n",
       "        vertical-align: top;\n",
       "    }\n",
       "\n",
       "    .dataframe thead th {\n",
       "        text-align: right;\n",
       "    }\n",
       "</style>\n",
       "<table border=\"1\" class=\"dataframe\">\n",
       "  <thead>\n",
       "    <tr style=\"text-align: right;\">\n",
       "      <th></th>\n",
       "      <th>gender</th>\n",
       "      <th>age</th>\n",
       "      <th>hypertension</th>\n",
       "      <th>heart_disease</th>\n",
       "      <th>smoking_history</th>\n",
       "      <th>bmi</th>\n",
       "      <th>HbA1c_level</th>\n",
       "      <th>blood_glucose_level</th>\n",
       "      <th>diabetes</th>\n",
       "    </tr>\n",
       "  </thead>\n",
       "  <tbody>\n",
       "    <tr>\n",
       "      <th>0</th>\n",
       "      <td>None</td>\n",
       "      <td>NaN</td>\n",
       "      <td>NaN</td>\n",
       "      <td>NaN</td>\n",
       "      <td>None</td>\n",
       "      <td>NaN</td>\n",
       "      <td>NaN</td>\n",
       "      <td>NaN</td>\n",
       "      <td>NaN</td>\n",
       "    </tr>\n",
       "    <tr>\n",
       "      <th>1</th>\n",
       "      <td>Female</td>\n",
       "      <td>54.0</td>\n",
       "      <td>0.0</td>\n",
       "      <td>0.0</td>\n",
       "      <td>No Info</td>\n",
       "      <td>27.32</td>\n",
       "      <td>6.6</td>\n",
       "      <td>80.0</td>\n",
       "      <td>0.0</td>\n",
       "    </tr>\n",
       "    <tr>\n",
       "      <th>2</th>\n",
       "      <td>Male</td>\n",
       "      <td>28.0</td>\n",
       "      <td>0.0</td>\n",
       "      <td>0.0</td>\n",
       "      <td>never</td>\n",
       "      <td>27.32</td>\n",
       "      <td>5.7</td>\n",
       "      <td>158.0</td>\n",
       "      <td>0.0</td>\n",
       "    </tr>\n",
       "    <tr>\n",
       "      <th>3</th>\n",
       "      <td>Female</td>\n",
       "      <td>36.0</td>\n",
       "      <td>0.0</td>\n",
       "      <td>0.0</td>\n",
       "      <td>current</td>\n",
       "      <td>23.45</td>\n",
       "      <td>5.0</td>\n",
       "      <td>155.0</td>\n",
       "      <td>0.0</td>\n",
       "    </tr>\n",
       "    <tr>\n",
       "      <th>4</th>\n",
       "      <td>Male</td>\n",
       "      <td>76.0</td>\n",
       "      <td>1.0</td>\n",
       "      <td>1.0</td>\n",
       "      <td>current</td>\n",
       "      <td>20.14</td>\n",
       "      <td>4.8</td>\n",
       "      <td>155.0</td>\n",
       "      <td>0.0</td>\n",
       "    </tr>\n",
       "  </tbody>\n",
       "</table>\n",
       "</div>"
      ],
      "text/plain": [
       "   gender   age  hypertension  heart_disease smoking_history    bmi  \\\n",
       "0    None   NaN           NaN            NaN            None    NaN   \n",
       "1  Female  54.0           0.0            0.0         No Info  27.32   \n",
       "2    Male  28.0           0.0            0.0           never  27.32   \n",
       "3  Female  36.0           0.0            0.0         current  23.45   \n",
       "4    Male  76.0           1.0            1.0         current  20.14   \n",
       "\n",
       "   HbA1c_level  blood_glucose_level  diabetes  \n",
       "0          NaN                  NaN       NaN  \n",
       "1          6.6                 80.0       0.0  \n",
       "2          5.7                158.0       0.0  \n",
       "3          5.0                155.0       0.0  \n",
       "4          4.8                155.0       0.0  "
      ]
     },
     "execution_count": 62,
     "metadata": {},
     "output_type": "execute_result"
    }
   ],
   "source": [
    "dfDCNull.iloc[0,:] = None\n",
    "dfDCNull.head()"
   ]
  },
  {
   "cell_type": "code",
   "execution_count": 63,
   "id": "604046c1-617e-4eeb-bbdf-b45166cd4ba7",
   "metadata": {},
   "outputs": [
    {
     "data": {
      "text/plain": [
       "gender                 True\n",
       "age                    True\n",
       "hypertension           True\n",
       "heart_disease          True\n",
       "smoking_history        True\n",
       "bmi                    True\n",
       "HbA1c_level            True\n",
       "blood_glucose_level    True\n",
       "diabetes               True\n",
       "dtype: bool"
      ]
     },
     "execution_count": 63,
     "metadata": {},
     "output_type": "execute_result"
    }
   ],
   "source": [
    "dfDCNull.isna().any()"
   ]
  },
  {
   "cell_type": "markdown",
   "id": "0bb0aeee-c2a8-408c-81f7-cf07f8f9de84",
   "metadata": {},
   "source": [
    "#### mengganti nilai null dengan rata-rata pada kolom HbA1c_level"
   ]
  },
  {
   "cell_type": "code",
   "execution_count": 64,
   "id": "c9ebbc98-3826-43be-b420-92a2194f6ea0",
   "metadata": {},
   "outputs": [],
   "source": [
    "dfDCNull['HbA1c_level'].fillna(dfDCNull['HbA1c_level'].mean(), inplace=True)"
   ]
  },
  {
   "cell_type": "code",
   "execution_count": 65,
   "id": "0d628d85-9531-4ab1-9518-fde43e799464",
   "metadata": {},
   "outputs": [
    {
     "data": {
      "text/plain": [
       "gender                  True\n",
       "age                     True\n",
       "hypertension            True\n",
       "heart_disease           True\n",
       "smoking_history         True\n",
       "bmi                     True\n",
       "HbA1c_level            False\n",
       "blood_glucose_level     True\n",
       "diabetes                True\n",
       "dtype: bool"
      ]
     },
     "execution_count": 65,
     "metadata": {},
     "output_type": "execute_result"
    }
   ],
   "source": [
    "dfDCNull.isna().any()"
   ]
  },
  {
   "cell_type": "markdown",
   "id": "2354c03f-aae7-423d-b6ec-683e45ebd210",
   "metadata": {},
   "source": [
    "#### mengubah seluruh kolom bernilai null sesuai ketentuan"
   ]
  },
  {
   "cell_type": "code",
   "execution_count": 66,
   "id": "673cae21-afd5-450d-9b4e-6dc96b41dced",
   "metadata": {},
   "outputs": [],
   "source": [
    "dfDCNull['smoking_history'].fillna(dfDCNull['smoking_history'].mode(), inplace=True)\n",
    "dfDCNull['gender'].fillna(dfDCNull['gender'].mode(), inplace=True)\n",
    "dfDCNull['age'].fillna(dfDCNull['age'].median(), inplace=True)\n",
    "dfDCNull['hypertension'].fillna(dfDCNull['hypertension'].median(), inplace=True)\n",
    "dfDCNull['heart_disease'].fillna(dfDCNull['heart_disease'].median(), inplace=True)\n",
    "dfDCNull['bmi'].fillna(dfDCNull['bmi'].mean(), inplace=True)\n",
    "dfDCNull['blood_glucose_level'].fillna(dfDCNull['blood_glucose_level'].median(), inplace=True)\n",
    "dfDCNull['diabetes'].fillna(dfDCNull['diabetes'].median(), inplace=True)"
   ]
  },
  {
   "cell_type": "code",
   "execution_count": 67,
   "id": "336a1b29-346d-45fb-8f16-36a884fe4c42",
   "metadata": {},
   "outputs": [
    {
     "data": {
      "text/html": [
       "<div>\n",
       "<style scoped>\n",
       "    .dataframe tbody tr th:only-of-type {\n",
       "        vertical-align: middle;\n",
       "    }\n",
       "\n",
       "    .dataframe tbody tr th {\n",
       "        vertical-align: top;\n",
       "    }\n",
       "\n",
       "    .dataframe thead th {\n",
       "        text-align: right;\n",
       "    }\n",
       "</style>\n",
       "<table border=\"1\" class=\"dataframe\">\n",
       "  <thead>\n",
       "    <tr style=\"text-align: right;\">\n",
       "      <th></th>\n",
       "      <th>gender</th>\n",
       "      <th>age</th>\n",
       "      <th>hypertension</th>\n",
       "      <th>heart_disease</th>\n",
       "      <th>smoking_history</th>\n",
       "      <th>bmi</th>\n",
       "      <th>HbA1c_level</th>\n",
       "      <th>blood_glucose_level</th>\n",
       "      <th>diabetes</th>\n",
       "    </tr>\n",
       "  </thead>\n",
       "  <tbody>\n",
       "    <tr>\n",
       "      <th>0</th>\n",
       "      <td>Female</td>\n",
       "      <td>43.0</td>\n",
       "      <td>0.0</td>\n",
       "      <td>0.0</td>\n",
       "      <td>No Info</td>\n",
       "      <td>27.320788</td>\n",
       "      <td>5.527496</td>\n",
       "      <td>140.0</td>\n",
       "      <td>0.0</td>\n",
       "    </tr>\n",
       "    <tr>\n",
       "      <th>1</th>\n",
       "      <td>Female</td>\n",
       "      <td>54.0</td>\n",
       "      <td>0.0</td>\n",
       "      <td>0.0</td>\n",
       "      <td>No Info</td>\n",
       "      <td>27.320000</td>\n",
       "      <td>6.600000</td>\n",
       "      <td>80.0</td>\n",
       "      <td>0.0</td>\n",
       "    </tr>\n",
       "    <tr>\n",
       "      <th>2</th>\n",
       "      <td>Male</td>\n",
       "      <td>28.0</td>\n",
       "      <td>0.0</td>\n",
       "      <td>0.0</td>\n",
       "      <td>never</td>\n",
       "      <td>27.320000</td>\n",
       "      <td>5.700000</td>\n",
       "      <td>158.0</td>\n",
       "      <td>0.0</td>\n",
       "    </tr>\n",
       "    <tr>\n",
       "      <th>3</th>\n",
       "      <td>Female</td>\n",
       "      <td>36.0</td>\n",
       "      <td>0.0</td>\n",
       "      <td>0.0</td>\n",
       "      <td>current</td>\n",
       "      <td>23.450000</td>\n",
       "      <td>5.000000</td>\n",
       "      <td>155.0</td>\n",
       "      <td>0.0</td>\n",
       "    </tr>\n",
       "    <tr>\n",
       "      <th>4</th>\n",
       "      <td>Male</td>\n",
       "      <td>76.0</td>\n",
       "      <td>1.0</td>\n",
       "      <td>1.0</td>\n",
       "      <td>current</td>\n",
       "      <td>20.140000</td>\n",
       "      <td>4.800000</td>\n",
       "      <td>155.0</td>\n",
       "      <td>0.0</td>\n",
       "    </tr>\n",
       "  </tbody>\n",
       "</table>\n",
       "</div>"
      ],
      "text/plain": [
       "   gender   age  hypertension  heart_disease smoking_history        bmi  \\\n",
       "0  Female  43.0           0.0            0.0         No Info  27.320788   \n",
       "1  Female  54.0           0.0            0.0         No Info  27.320000   \n",
       "2    Male  28.0           0.0            0.0           never  27.320000   \n",
       "3  Female  36.0           0.0            0.0         current  23.450000   \n",
       "4    Male  76.0           1.0            1.0         current  20.140000   \n",
       "\n",
       "   HbA1c_level  blood_glucose_level  diabetes  \n",
       "0     5.527496                140.0       0.0  \n",
       "1     6.600000                 80.0       0.0  \n",
       "2     5.700000                158.0       0.0  \n",
       "3     5.000000                155.0       0.0  \n",
       "4     4.800000                155.0       0.0  "
      ]
     },
     "execution_count": 67,
     "metadata": {},
     "output_type": "execute_result"
    }
   ],
   "source": [
    "dfDCNull.head()"
   ]
  },
  {
   "cell_type": "code",
   "execution_count": 68,
   "id": "53cd0830-0f70-4cdf-9e9a-4dbcea05d73e",
   "metadata": {},
   "outputs": [
    {
     "data": {
      "text/plain": [
       "gender                 False\n",
       "age                    False\n",
       "hypertension           False\n",
       "heart_disease          False\n",
       "smoking_history        False\n",
       "bmi                    False\n",
       "HbA1c_level            False\n",
       "blood_glucose_level    False\n",
       "diabetes               False\n",
       "dtype: bool"
      ]
     },
     "execution_count": 68,
     "metadata": {},
     "output_type": "execute_result"
    }
   ],
   "source": [
    "dfDCNull.isna().any()"
   ]
  },
  {
   "cell_type": "markdown",
   "id": "b854b846-b1eb-46b9-8176-1942d2d500ed",
   "metadata": {},
   "source": [
    "## **lakukan data cleaning pada data duplikat**"
   ]
  },
  {
   "cell_type": "code",
   "execution_count": 69,
   "id": "6eb40e98-bd1d-46c1-8492-669334da9736",
   "metadata": {},
   "outputs": [
    {
     "data": {
      "text/plain": [
       "3854"
      ]
     },
     "execution_count": 69,
     "metadata": {},
     "output_type": "execute_result"
    }
   ],
   "source": [
    "dfDCNull.duplicated().sum()"
   ]
  },
  {
   "cell_type": "markdown",
   "id": "97719e36-839f-4f10-aec5-f0b38d0fd2ff",
   "metadata": {},
   "source": [
    "banyak bgt.. ini dihapus semua kah?"
   ]
  },
  {
   "cell_type": "code",
   "execution_count": 70,
   "id": "ce570164-40e4-4ff6-a2ad-3002115b5155",
   "metadata": {},
   "outputs": [
    {
     "data": {
      "text/html": [
       "<div>\n",
       "<style scoped>\n",
       "    .dataframe tbody tr th:only-of-type {\n",
       "        vertical-align: middle;\n",
       "    }\n",
       "\n",
       "    .dataframe tbody tr th {\n",
       "        vertical-align: top;\n",
       "    }\n",
       "\n",
       "    .dataframe thead th {\n",
       "        text-align: right;\n",
       "    }\n",
       "</style>\n",
       "<table border=\"1\" class=\"dataframe\">\n",
       "  <thead>\n",
       "    <tr style=\"text-align: right;\">\n",
       "      <th></th>\n",
       "      <th>gender</th>\n",
       "      <th>age</th>\n",
       "      <th>hypertension</th>\n",
       "      <th>heart_disease</th>\n",
       "      <th>smoking_history</th>\n",
       "      <th>bmi</th>\n",
       "      <th>HbA1c_level</th>\n",
       "      <th>blood_glucose_level</th>\n",
       "      <th>diabetes</th>\n",
       "    </tr>\n",
       "  </thead>\n",
       "  <tbody>\n",
       "    <tr>\n",
       "      <th>2756</th>\n",
       "      <td>Male</td>\n",
       "      <td>80.0</td>\n",
       "      <td>0.0</td>\n",
       "      <td>0.0</td>\n",
       "      <td>No Info</td>\n",
       "      <td>27.32</td>\n",
       "      <td>6.6</td>\n",
       "      <td>159.0</td>\n",
       "      <td>0.0</td>\n",
       "    </tr>\n",
       "    <tr>\n",
       "      <th>3272</th>\n",
       "      <td>Female</td>\n",
       "      <td>80.0</td>\n",
       "      <td>0.0</td>\n",
       "      <td>0.0</td>\n",
       "      <td>No Info</td>\n",
       "      <td>27.32</td>\n",
       "      <td>3.5</td>\n",
       "      <td>80.0</td>\n",
       "      <td>0.0</td>\n",
       "    </tr>\n",
       "    <tr>\n",
       "      <th>3418</th>\n",
       "      <td>Female</td>\n",
       "      <td>19.0</td>\n",
       "      <td>0.0</td>\n",
       "      <td>0.0</td>\n",
       "      <td>No Info</td>\n",
       "      <td>27.32</td>\n",
       "      <td>6.5</td>\n",
       "      <td>100.0</td>\n",
       "      <td>0.0</td>\n",
       "    </tr>\n",
       "    <tr>\n",
       "      <th>3939</th>\n",
       "      <td>Female</td>\n",
       "      <td>78.0</td>\n",
       "      <td>1.0</td>\n",
       "      <td>0.0</td>\n",
       "      <td>former</td>\n",
       "      <td>27.32</td>\n",
       "      <td>3.5</td>\n",
       "      <td>130.0</td>\n",
       "      <td>0.0</td>\n",
       "    </tr>\n",
       "    <tr>\n",
       "      <th>3960</th>\n",
       "      <td>Male</td>\n",
       "      <td>47.0</td>\n",
       "      <td>0.0</td>\n",
       "      <td>0.0</td>\n",
       "      <td>No Info</td>\n",
       "      <td>27.32</td>\n",
       "      <td>6.0</td>\n",
       "      <td>200.0</td>\n",
       "      <td>0.0</td>\n",
       "    </tr>\n",
       "    <tr>\n",
       "      <th>...</th>\n",
       "      <td>...</td>\n",
       "      <td>...</td>\n",
       "      <td>...</td>\n",
       "      <td>...</td>\n",
       "      <td>...</td>\n",
       "      <td>...</td>\n",
       "      <td>...</td>\n",
       "      <td>...</td>\n",
       "      <td>...</td>\n",
       "    </tr>\n",
       "    <tr>\n",
       "      <th>99980</th>\n",
       "      <td>Female</td>\n",
       "      <td>52.0</td>\n",
       "      <td>0.0</td>\n",
       "      <td>0.0</td>\n",
       "      <td>never</td>\n",
       "      <td>27.32</td>\n",
       "      <td>6.1</td>\n",
       "      <td>145.0</td>\n",
       "      <td>0.0</td>\n",
       "    </tr>\n",
       "    <tr>\n",
       "      <th>99985</th>\n",
       "      <td>Male</td>\n",
       "      <td>25.0</td>\n",
       "      <td>0.0</td>\n",
       "      <td>0.0</td>\n",
       "      <td>No Info</td>\n",
       "      <td>27.32</td>\n",
       "      <td>5.8</td>\n",
       "      <td>145.0</td>\n",
       "      <td>0.0</td>\n",
       "    </tr>\n",
       "    <tr>\n",
       "      <th>99989</th>\n",
       "      <td>Female</td>\n",
       "      <td>26.0</td>\n",
       "      <td>0.0</td>\n",
       "      <td>0.0</td>\n",
       "      <td>No Info</td>\n",
       "      <td>27.32</td>\n",
       "      <td>5.0</td>\n",
       "      <td>158.0</td>\n",
       "      <td>0.0</td>\n",
       "    </tr>\n",
       "    <tr>\n",
       "      <th>99990</th>\n",
       "      <td>Male</td>\n",
       "      <td>39.0</td>\n",
       "      <td>0.0</td>\n",
       "      <td>0.0</td>\n",
       "      <td>No Info</td>\n",
       "      <td>27.32</td>\n",
       "      <td>6.1</td>\n",
       "      <td>100.0</td>\n",
       "      <td>0.0</td>\n",
       "    </tr>\n",
       "    <tr>\n",
       "      <th>99995</th>\n",
       "      <td>Female</td>\n",
       "      <td>80.0</td>\n",
       "      <td>0.0</td>\n",
       "      <td>0.0</td>\n",
       "      <td>No Info</td>\n",
       "      <td>27.32</td>\n",
       "      <td>6.2</td>\n",
       "      <td>90.0</td>\n",
       "      <td>0.0</td>\n",
       "    </tr>\n",
       "  </tbody>\n",
       "</table>\n",
       "<p>3854 rows × 9 columns</p>\n",
       "</div>"
      ],
      "text/plain": [
       "       gender   age  hypertension  heart_disease smoking_history    bmi  \\\n",
       "2756     Male  80.0           0.0            0.0         No Info  27.32   \n",
       "3272   Female  80.0           0.0            0.0         No Info  27.32   \n",
       "3418   Female  19.0           0.0            0.0         No Info  27.32   \n",
       "3939   Female  78.0           1.0            0.0          former  27.32   \n",
       "3960     Male  47.0           0.0            0.0         No Info  27.32   \n",
       "...       ...   ...           ...            ...             ...    ...   \n",
       "99980  Female  52.0           0.0            0.0           never  27.32   \n",
       "99985    Male  25.0           0.0            0.0         No Info  27.32   \n",
       "99989  Female  26.0           0.0            0.0         No Info  27.32   \n",
       "99990    Male  39.0           0.0            0.0         No Info  27.32   \n",
       "99995  Female  80.0           0.0            0.0         No Info  27.32   \n",
       "\n",
       "       HbA1c_level  blood_glucose_level  diabetes  \n",
       "2756           6.6                159.0       0.0  \n",
       "3272           3.5                 80.0       0.0  \n",
       "3418           6.5                100.0       0.0  \n",
       "3939           3.5                130.0       0.0  \n",
       "3960           6.0                200.0       0.0  \n",
       "...            ...                  ...       ...  \n",
       "99980          6.1                145.0       0.0  \n",
       "99985          5.8                145.0       0.0  \n",
       "99989          5.0                158.0       0.0  \n",
       "99990          6.1                100.0       0.0  \n",
       "99995          6.2                 90.0       0.0  \n",
       "\n",
       "[3854 rows x 9 columns]"
      ]
     },
     "execution_count": 70,
     "metadata": {},
     "output_type": "execute_result"
    }
   ],
   "source": [
    "dfDCNull[dfDCNull.duplicated()]"
   ]
  },
  {
   "cell_type": "code",
   "execution_count": 71,
   "id": "2f02d4d8-caac-4467-81c7-188e4377e8da",
   "metadata": {},
   "outputs": [],
   "source": [
    "dfDCNull.drop_duplicates(inplace=True)"
   ]
  },
  {
   "cell_type": "code",
   "execution_count": 72,
   "id": "edef149d-0643-4bcd-984f-8faf3aa2b15c",
   "metadata": {},
   "outputs": [
    {
     "data": {
      "text/html": [
       "<div>\n",
       "<style scoped>\n",
       "    .dataframe tbody tr th:only-of-type {\n",
       "        vertical-align: middle;\n",
       "    }\n",
       "\n",
       "    .dataframe tbody tr th {\n",
       "        vertical-align: top;\n",
       "    }\n",
       "\n",
       "    .dataframe thead th {\n",
       "        text-align: right;\n",
       "    }\n",
       "</style>\n",
       "<table border=\"1\" class=\"dataframe\">\n",
       "  <thead>\n",
       "    <tr style=\"text-align: right;\">\n",
       "      <th></th>\n",
       "      <th>gender</th>\n",
       "      <th>age</th>\n",
       "      <th>hypertension</th>\n",
       "      <th>heart_disease</th>\n",
       "      <th>smoking_history</th>\n",
       "      <th>bmi</th>\n",
       "      <th>HbA1c_level</th>\n",
       "      <th>blood_glucose_level</th>\n",
       "      <th>diabetes</th>\n",
       "    </tr>\n",
       "  </thead>\n",
       "  <tbody>\n",
       "  </tbody>\n",
       "</table>\n",
       "</div>"
      ],
      "text/plain": [
       "Empty DataFrame\n",
       "Columns: [gender, age, hypertension, heart_disease, smoking_history, bmi, HbA1c_level, blood_glucose_level, diabetes]\n",
       "Index: []"
      ]
     },
     "execution_count": 72,
     "metadata": {},
     "output_type": "execute_result"
    }
   ],
   "source": [
    "dfDCNull[dfDCNull.duplicated()]"
   ]
  },
  {
   "cell_type": "markdown",
   "id": "d10e9c56-4b48-424b-95f5-d0c0ed04f07e",
   "metadata": {},
   "source": [
    "semua data duplikat berhasil dihapus.. :D"
   ]
  },
  {
   "cell_type": "markdown",
   "id": "9370a7cb-9c7d-4bed-a2a8-00279ef64287",
   "metadata": {},
   "source": [
    "## **ganti tipe data salah satu atribut angka**"
   ]
  },
  {
   "cell_type": "code",
   "execution_count": 73,
   "id": "31dd133d-68e5-49f6-8b39-9206c5629999",
   "metadata": {},
   "outputs": [
    {
     "name": "stdout",
     "output_type": "stream",
     "text": [
      "<class 'pandas.core.frame.DataFrame'>\n",
      "Int64Index: 96146 entries, 0 to 99999\n",
      "Data columns (total 9 columns):\n",
      " #   Column               Non-Null Count  Dtype  \n",
      "---  ------               --------------  -----  \n",
      " 0   gender               96146 non-null  object \n",
      " 1   age                  96146 non-null  float64\n",
      " 2   hypertension         96146 non-null  float64\n",
      " 3   heart_disease        96146 non-null  float64\n",
      " 4   smoking_history      96146 non-null  object \n",
      " 5   bmi                  96146 non-null  float64\n",
      " 6   HbA1c_level          96146 non-null  float64\n",
      " 7   blood_glucose_level  96146 non-null  float64\n",
      " 8   diabetes             96146 non-null  float64\n",
      "dtypes: float64(7), object(2)\n",
      "memory usage: 7.3+ MB\n"
     ]
    }
   ],
   "source": [
    "dfDCNull.info()"
   ]
  },
  {
   "cell_type": "code",
   "execution_count": 74,
   "id": "9aa6927f-c69a-4c09-92f4-c774ac46dbfa",
   "metadata": {},
   "outputs": [],
   "source": [
    "dfDCNull['diabetes'] = dfDCNull['diabetes'].astype('int')"
   ]
  },
  {
   "cell_type": "code",
   "execution_count": 75,
   "id": "d3f0eeae-c9d7-4f7a-bfe5-d1fa0697b226",
   "metadata": {},
   "outputs": [
    {
     "name": "stdout",
     "output_type": "stream",
     "text": [
      "<class 'pandas.core.frame.DataFrame'>\n",
      "Int64Index: 96146 entries, 0 to 99999\n",
      "Data columns (total 9 columns):\n",
      " #   Column               Non-Null Count  Dtype  \n",
      "---  ------               --------------  -----  \n",
      " 0   gender               96146 non-null  object \n",
      " 1   age                  96146 non-null  float64\n",
      " 2   hypertension         96146 non-null  float64\n",
      " 3   heart_disease        96146 non-null  float64\n",
      " 4   smoking_history      96146 non-null  object \n",
      " 5   bmi                  96146 non-null  float64\n",
      " 6   HbA1c_level          96146 non-null  float64\n",
      " 7   blood_glucose_level  96146 non-null  float64\n",
      " 8   diabetes             96146 non-null  int32  \n",
      "dtypes: float64(6), int32(1), object(2)\n",
      "memory usage: 7.0+ MB\n"
     ]
    }
   ],
   "source": [
    "dfDCNull.info()"
   ]
  },
  {
   "cell_type": "markdown",
   "id": "42c22320-7a2c-474e-b5b7-efee44a8ff65",
   "metadata": {},
   "source": [
    "## **lakukan one hot encoding**"
   ]
  },
  {
   "cell_type": "code",
   "execution_count": 76,
   "id": "11255944-43e9-4be2-86d4-305cae22ad63",
   "metadata": {},
   "outputs": [],
   "source": [
    "onehot = pd.get_dummies(dfDCNull[['gender']])\n",
    "dfOH = dfDCNull.join(onehot)"
   ]
  },
  {
   "cell_type": "code",
   "execution_count": 77,
   "id": "39c6c65f-fd6b-4544-af50-07b3aa6f8e43",
   "metadata": {},
   "outputs": [
    {
     "data": {
      "text/html": [
       "<div>\n",
       "<style scoped>\n",
       "    .dataframe tbody tr th:only-of-type {\n",
       "        vertical-align: middle;\n",
       "    }\n",
       "\n",
       "    .dataframe tbody tr th {\n",
       "        vertical-align: top;\n",
       "    }\n",
       "\n",
       "    .dataframe thead th {\n",
       "        text-align: right;\n",
       "    }\n",
       "</style>\n",
       "<table border=\"1\" class=\"dataframe\">\n",
       "  <thead>\n",
       "    <tr style=\"text-align: right;\">\n",
       "      <th></th>\n",
       "      <th>gender</th>\n",
       "      <th>age</th>\n",
       "      <th>hypertension</th>\n",
       "      <th>heart_disease</th>\n",
       "      <th>smoking_history</th>\n",
       "      <th>bmi</th>\n",
       "      <th>HbA1c_level</th>\n",
       "      <th>blood_glucose_level</th>\n",
       "      <th>diabetes</th>\n",
       "      <th>gender_Female</th>\n",
       "      <th>gender_Male</th>\n",
       "      <th>gender_Other</th>\n",
       "    </tr>\n",
       "  </thead>\n",
       "  <tbody>\n",
       "    <tr>\n",
       "      <th>0</th>\n",
       "      <td>Female</td>\n",
       "      <td>43.0</td>\n",
       "      <td>0.0</td>\n",
       "      <td>0.0</td>\n",
       "      <td>No Info</td>\n",
       "      <td>27.320788</td>\n",
       "      <td>5.527496</td>\n",
       "      <td>140.0</td>\n",
       "      <td>0</td>\n",
       "      <td>1</td>\n",
       "      <td>0</td>\n",
       "      <td>0</td>\n",
       "    </tr>\n",
       "    <tr>\n",
       "      <th>1</th>\n",
       "      <td>Female</td>\n",
       "      <td>54.0</td>\n",
       "      <td>0.0</td>\n",
       "      <td>0.0</td>\n",
       "      <td>No Info</td>\n",
       "      <td>27.320000</td>\n",
       "      <td>6.600000</td>\n",
       "      <td>80.0</td>\n",
       "      <td>0</td>\n",
       "      <td>1</td>\n",
       "      <td>0</td>\n",
       "      <td>0</td>\n",
       "    </tr>\n",
       "    <tr>\n",
       "      <th>2</th>\n",
       "      <td>Male</td>\n",
       "      <td>28.0</td>\n",
       "      <td>0.0</td>\n",
       "      <td>0.0</td>\n",
       "      <td>never</td>\n",
       "      <td>27.320000</td>\n",
       "      <td>5.700000</td>\n",
       "      <td>158.0</td>\n",
       "      <td>0</td>\n",
       "      <td>0</td>\n",
       "      <td>1</td>\n",
       "      <td>0</td>\n",
       "    </tr>\n",
       "    <tr>\n",
       "      <th>3</th>\n",
       "      <td>Female</td>\n",
       "      <td>36.0</td>\n",
       "      <td>0.0</td>\n",
       "      <td>0.0</td>\n",
       "      <td>current</td>\n",
       "      <td>23.450000</td>\n",
       "      <td>5.000000</td>\n",
       "      <td>155.0</td>\n",
       "      <td>0</td>\n",
       "      <td>1</td>\n",
       "      <td>0</td>\n",
       "      <td>0</td>\n",
       "    </tr>\n",
       "    <tr>\n",
       "      <th>4</th>\n",
       "      <td>Male</td>\n",
       "      <td>76.0</td>\n",
       "      <td>1.0</td>\n",
       "      <td>1.0</td>\n",
       "      <td>current</td>\n",
       "      <td>20.140000</td>\n",
       "      <td>4.800000</td>\n",
       "      <td>155.0</td>\n",
       "      <td>0</td>\n",
       "      <td>0</td>\n",
       "      <td>1</td>\n",
       "      <td>0</td>\n",
       "    </tr>\n",
       "    <tr>\n",
       "      <th>...</th>\n",
       "      <td>...</td>\n",
       "      <td>...</td>\n",
       "      <td>...</td>\n",
       "      <td>...</td>\n",
       "      <td>...</td>\n",
       "      <td>...</td>\n",
       "      <td>...</td>\n",
       "      <td>...</td>\n",
       "      <td>...</td>\n",
       "      <td>...</td>\n",
       "      <td>...</td>\n",
       "      <td>...</td>\n",
       "    </tr>\n",
       "    <tr>\n",
       "      <th>99994</th>\n",
       "      <td>Female</td>\n",
       "      <td>36.0</td>\n",
       "      <td>0.0</td>\n",
       "      <td>0.0</td>\n",
       "      <td>No Info</td>\n",
       "      <td>24.600000</td>\n",
       "      <td>4.800000</td>\n",
       "      <td>145.0</td>\n",
       "      <td>0</td>\n",
       "      <td>1</td>\n",
       "      <td>0</td>\n",
       "      <td>0</td>\n",
       "    </tr>\n",
       "    <tr>\n",
       "      <th>99996</th>\n",
       "      <td>Female</td>\n",
       "      <td>2.0</td>\n",
       "      <td>0.0</td>\n",
       "      <td>0.0</td>\n",
       "      <td>No Info</td>\n",
       "      <td>17.370000</td>\n",
       "      <td>6.500000</td>\n",
       "      <td>100.0</td>\n",
       "      <td>0</td>\n",
       "      <td>1</td>\n",
       "      <td>0</td>\n",
       "      <td>0</td>\n",
       "    </tr>\n",
       "    <tr>\n",
       "      <th>99997</th>\n",
       "      <td>Male</td>\n",
       "      <td>66.0</td>\n",
       "      <td>0.0</td>\n",
       "      <td>0.0</td>\n",
       "      <td>former</td>\n",
       "      <td>27.830000</td>\n",
       "      <td>5.700000</td>\n",
       "      <td>155.0</td>\n",
       "      <td>0</td>\n",
       "      <td>0</td>\n",
       "      <td>1</td>\n",
       "      <td>0</td>\n",
       "    </tr>\n",
       "    <tr>\n",
       "      <th>99998</th>\n",
       "      <td>Female</td>\n",
       "      <td>24.0</td>\n",
       "      <td>0.0</td>\n",
       "      <td>0.0</td>\n",
       "      <td>never</td>\n",
       "      <td>35.420000</td>\n",
       "      <td>4.000000</td>\n",
       "      <td>100.0</td>\n",
       "      <td>0</td>\n",
       "      <td>1</td>\n",
       "      <td>0</td>\n",
       "      <td>0</td>\n",
       "    </tr>\n",
       "    <tr>\n",
       "      <th>99999</th>\n",
       "      <td>Female</td>\n",
       "      <td>57.0</td>\n",
       "      <td>0.0</td>\n",
       "      <td>0.0</td>\n",
       "      <td>current</td>\n",
       "      <td>22.430000</td>\n",
       "      <td>6.600000</td>\n",
       "      <td>90.0</td>\n",
       "      <td>0</td>\n",
       "      <td>1</td>\n",
       "      <td>0</td>\n",
       "      <td>0</td>\n",
       "    </tr>\n",
       "  </tbody>\n",
       "</table>\n",
       "<p>96146 rows × 12 columns</p>\n",
       "</div>"
      ],
      "text/plain": [
       "       gender   age  hypertension  heart_disease smoking_history        bmi  \\\n",
       "0      Female  43.0           0.0            0.0         No Info  27.320788   \n",
       "1      Female  54.0           0.0            0.0         No Info  27.320000   \n",
       "2        Male  28.0           0.0            0.0           never  27.320000   \n",
       "3      Female  36.0           0.0            0.0         current  23.450000   \n",
       "4        Male  76.0           1.0            1.0         current  20.140000   \n",
       "...       ...   ...           ...            ...             ...        ...   \n",
       "99994  Female  36.0           0.0            0.0         No Info  24.600000   \n",
       "99996  Female   2.0           0.0            0.0         No Info  17.370000   \n",
       "99997    Male  66.0           0.0            0.0          former  27.830000   \n",
       "99998  Female  24.0           0.0            0.0           never  35.420000   \n",
       "99999  Female  57.0           0.0            0.0         current  22.430000   \n",
       "\n",
       "       HbA1c_level  blood_glucose_level  diabetes  gender_Female  gender_Male  \\\n",
       "0         5.527496                140.0         0              1            0   \n",
       "1         6.600000                 80.0         0              1            0   \n",
       "2         5.700000                158.0         0              0            1   \n",
       "3         5.000000                155.0         0              1            0   \n",
       "4         4.800000                155.0         0              0            1   \n",
       "...            ...                  ...       ...            ...          ...   \n",
       "99994     4.800000                145.0         0              1            0   \n",
       "99996     6.500000                100.0         0              1            0   \n",
       "99997     5.700000                155.0         0              0            1   \n",
       "99998     4.000000                100.0         0              1            0   \n",
       "99999     6.600000                 90.0         0              1            0   \n",
       "\n",
       "       gender_Other  \n",
       "0                 0  \n",
       "1                 0  \n",
       "2                 0  \n",
       "3                 0  \n",
       "4                 0  \n",
       "...             ...  \n",
       "99994             0  \n",
       "99996             0  \n",
       "99997             0  \n",
       "99998             0  \n",
       "99999             0  \n",
       "\n",
       "[96146 rows x 12 columns]"
      ]
     },
     "execution_count": 77,
     "metadata": {},
     "output_type": "execute_result"
    }
   ],
   "source": [
    "dfOH"
   ]
  }
 ],
 "metadata": {
  "kernelspec": {
   "display_name": "Python 3 (ipykernel)",
   "language": "python",
   "name": "python3"
  },
  "language_info": {
   "codemirror_mode": {
    "name": "ipython",
    "version": 3
   },
   "file_extension": ".py",
   "mimetype": "text/x-python",
   "name": "python",
   "nbconvert_exporter": "python",
   "pygments_lexer": "ipython3",
   "version": "3.10.7"
  }
 },
 "nbformat": 4,
 "nbformat_minor": 5
}
