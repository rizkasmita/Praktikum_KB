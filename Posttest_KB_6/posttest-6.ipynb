{
 "cells": [
  {
   "cell_type": "markdown",
   "id": "0e3503c2-92e2-45e8-a2af-a7dcd1594a6d",
   "metadata": {},
   "source": [
    "link dataset = https://www.kaggle.com/datasets/iammustafatz/diabetes-prediction-dataset"
   ]
  },
  {
   "cell_type": "code",
   "execution_count": 1,
   "id": "7c242ad2-1fc2-43d8-a3bd-6cc0f6129b63",
   "metadata": {},
   "outputs": [],
   "source": [
    "import pandas as pd"
   ]
  },
  {
   "cell_type": "code",
   "execution_count": 2,
   "id": "8f95352b-1c62-47c0-b52a-17895d46aa45",
   "metadata": {},
   "outputs": [],
   "source": [
    "df = pd.read_csv(\"../diabetes_prediction_dataset.csv\")"
   ]
  },
  {
   "cell_type": "code",
   "execution_count": 3,
   "id": "aa275fa9-25e1-434e-bded-c6ba7a0bf180",
   "metadata": {},
   "outputs": [
    {
     "data": {
      "text/html": [
       "<div>\n",
       "<style scoped>\n",
       "    .dataframe tbody tr th:only-of-type {\n",
       "        vertical-align: middle;\n",
       "    }\n",
       "\n",
       "    .dataframe tbody tr th {\n",
       "        vertical-align: top;\n",
       "    }\n",
       "\n",
       "    .dataframe thead th {\n",
       "        text-align: right;\n",
       "    }\n",
       "</style>\n",
       "<table border=\"1\" class=\"dataframe\">\n",
       "  <thead>\n",
       "    <tr style=\"text-align: right;\">\n",
       "      <th></th>\n",
       "      <th>gender</th>\n",
       "      <th>age</th>\n",
       "      <th>hypertension</th>\n",
       "      <th>heart_disease</th>\n",
       "      <th>smoking_history</th>\n",
       "      <th>bmi</th>\n",
       "      <th>HbA1c_level</th>\n",
       "      <th>blood_glucose_level</th>\n",
       "      <th>diabetes</th>\n",
       "    </tr>\n",
       "  </thead>\n",
       "  <tbody>\n",
       "    <tr>\n",
       "      <th>0</th>\n",
       "      <td>Female</td>\n",
       "      <td>80.0</td>\n",
       "      <td>0</td>\n",
       "      <td>1</td>\n",
       "      <td>never</td>\n",
       "      <td>25.19</td>\n",
       "      <td>6.6</td>\n",
       "      <td>140</td>\n",
       "      <td>0</td>\n",
       "    </tr>\n",
       "    <tr>\n",
       "      <th>1</th>\n",
       "      <td>Female</td>\n",
       "      <td>54.0</td>\n",
       "      <td>0</td>\n",
       "      <td>0</td>\n",
       "      <td>No Info</td>\n",
       "      <td>27.32</td>\n",
       "      <td>6.6</td>\n",
       "      <td>80</td>\n",
       "      <td>0</td>\n",
       "    </tr>\n",
       "    <tr>\n",
       "      <th>2</th>\n",
       "      <td>Male</td>\n",
       "      <td>28.0</td>\n",
       "      <td>0</td>\n",
       "      <td>0</td>\n",
       "      <td>never</td>\n",
       "      <td>27.32</td>\n",
       "      <td>5.7</td>\n",
       "      <td>158</td>\n",
       "      <td>0</td>\n",
       "    </tr>\n",
       "    <tr>\n",
       "      <th>3</th>\n",
       "      <td>Female</td>\n",
       "      <td>36.0</td>\n",
       "      <td>0</td>\n",
       "      <td>0</td>\n",
       "      <td>current</td>\n",
       "      <td>23.45</td>\n",
       "      <td>5.0</td>\n",
       "      <td>155</td>\n",
       "      <td>0</td>\n",
       "    </tr>\n",
       "    <tr>\n",
       "      <th>4</th>\n",
       "      <td>Male</td>\n",
       "      <td>76.0</td>\n",
       "      <td>1</td>\n",
       "      <td>1</td>\n",
       "      <td>current</td>\n",
       "      <td>20.14</td>\n",
       "      <td>4.8</td>\n",
       "      <td>155</td>\n",
       "      <td>0</td>\n",
       "    </tr>\n",
       "  </tbody>\n",
       "</table>\n",
       "</div>"
      ],
      "text/plain": [
       "   gender   age  hypertension  heart_disease smoking_history    bmi  \\\n",
       "0  Female  80.0             0              1           never  25.19   \n",
       "1  Female  54.0             0              0         No Info  27.32   \n",
       "2    Male  28.0             0              0           never  27.32   \n",
       "3  Female  36.0             0              0         current  23.45   \n",
       "4    Male  76.0             1              1         current  20.14   \n",
       "\n",
       "   HbA1c_level  blood_glucose_level  diabetes  \n",
       "0          6.6                  140         0  \n",
       "1          6.6                   80         0  \n",
       "2          5.7                  158         0  \n",
       "3          5.0                  155         0  \n",
       "4          4.8                  155         0  "
      ]
     },
     "execution_count": 3,
     "metadata": {},
     "output_type": "execute_result"
    }
   ],
   "source": [
    "df.head()"
   ]
  },
  {
   "cell_type": "markdown",
   "id": "63bb2124-fbd7-4064-b740-bbc1ed8d3812",
   "metadata": {},
   "source": [
    "### **data cleaning**"
   ]
  },
  {
   "cell_type": "code",
   "execution_count": 4,
   "id": "a8ba1772-d48f-49c7-be8d-faf7254a5dd6",
   "metadata": {},
   "outputs": [],
   "source": [
    "df.drop_duplicates(inplace=True)"
   ]
  },
  {
   "cell_type": "code",
   "execution_count": 5,
   "id": "46dfc9fe-77ed-49a2-abbf-df3d32644d48",
   "metadata": {},
   "outputs": [],
   "source": [
    "x = df.drop('diabetes', axis=1)\n",
    "y = df['diabetes']"
   ]
  },
  {
   "cell_type": "markdown",
   "id": "bb531966-1568-4942-b6b1-63a1d22b388c",
   "metadata": {},
   "source": [
    "### **encoding**"
   ]
  },
  {
   "cell_type": "code",
   "execution_count": 6,
   "id": "4a2a4b46-99d7-482f-b956-f4b37deae717",
   "metadata": {},
   "outputs": [
    {
     "data": {
      "text/html": [
       "<div>\n",
       "<style scoped>\n",
       "    .dataframe tbody tr th:only-of-type {\n",
       "        vertical-align: middle;\n",
       "    }\n",
       "\n",
       "    .dataframe tbody tr th {\n",
       "        vertical-align: top;\n",
       "    }\n",
       "\n",
       "    .dataframe thead th {\n",
       "        text-align: right;\n",
       "    }\n",
       "</style>\n",
       "<table border=\"1\" class=\"dataframe\">\n",
       "  <thead>\n",
       "    <tr style=\"text-align: right;\">\n",
       "      <th></th>\n",
       "      <th>age</th>\n",
       "      <th>hypertension</th>\n",
       "      <th>heart_disease</th>\n",
       "      <th>bmi</th>\n",
       "      <th>HbA1c_level</th>\n",
       "      <th>blood_glucose_level</th>\n",
       "      <th>gender_Female</th>\n",
       "      <th>gender_Male</th>\n",
       "      <th>gender_Other</th>\n",
       "      <th>smoking_history_No Info</th>\n",
       "      <th>smoking_history_current</th>\n",
       "      <th>smoking_history_ever</th>\n",
       "      <th>smoking_history_former</th>\n",
       "      <th>smoking_history_never</th>\n",
       "      <th>smoking_history_not current</th>\n",
       "    </tr>\n",
       "  </thead>\n",
       "  <tbody>\n",
       "    <tr>\n",
       "      <th>0</th>\n",
       "      <td>80.0</td>\n",
       "      <td>0</td>\n",
       "      <td>1</td>\n",
       "      <td>25.19</td>\n",
       "      <td>6.6</td>\n",
       "      <td>140</td>\n",
       "      <td>1</td>\n",
       "      <td>0</td>\n",
       "      <td>0</td>\n",
       "      <td>0</td>\n",
       "      <td>0</td>\n",
       "      <td>0</td>\n",
       "      <td>0</td>\n",
       "      <td>1</td>\n",
       "      <td>0</td>\n",
       "    </tr>\n",
       "    <tr>\n",
       "      <th>1</th>\n",
       "      <td>54.0</td>\n",
       "      <td>0</td>\n",
       "      <td>0</td>\n",
       "      <td>27.32</td>\n",
       "      <td>6.6</td>\n",
       "      <td>80</td>\n",
       "      <td>1</td>\n",
       "      <td>0</td>\n",
       "      <td>0</td>\n",
       "      <td>1</td>\n",
       "      <td>0</td>\n",
       "      <td>0</td>\n",
       "      <td>0</td>\n",
       "      <td>0</td>\n",
       "      <td>0</td>\n",
       "    </tr>\n",
       "    <tr>\n",
       "      <th>2</th>\n",
       "      <td>28.0</td>\n",
       "      <td>0</td>\n",
       "      <td>0</td>\n",
       "      <td>27.32</td>\n",
       "      <td>5.7</td>\n",
       "      <td>158</td>\n",
       "      <td>0</td>\n",
       "      <td>1</td>\n",
       "      <td>0</td>\n",
       "      <td>0</td>\n",
       "      <td>0</td>\n",
       "      <td>0</td>\n",
       "      <td>0</td>\n",
       "      <td>1</td>\n",
       "      <td>0</td>\n",
       "    </tr>\n",
       "    <tr>\n",
       "      <th>3</th>\n",
       "      <td>36.0</td>\n",
       "      <td>0</td>\n",
       "      <td>0</td>\n",
       "      <td>23.45</td>\n",
       "      <td>5.0</td>\n",
       "      <td>155</td>\n",
       "      <td>1</td>\n",
       "      <td>0</td>\n",
       "      <td>0</td>\n",
       "      <td>0</td>\n",
       "      <td>1</td>\n",
       "      <td>0</td>\n",
       "      <td>0</td>\n",
       "      <td>0</td>\n",
       "      <td>0</td>\n",
       "    </tr>\n",
       "    <tr>\n",
       "      <th>4</th>\n",
       "      <td>76.0</td>\n",
       "      <td>1</td>\n",
       "      <td>1</td>\n",
       "      <td>20.14</td>\n",
       "      <td>4.8</td>\n",
       "      <td>155</td>\n",
       "      <td>0</td>\n",
       "      <td>1</td>\n",
       "      <td>0</td>\n",
       "      <td>0</td>\n",
       "      <td>1</td>\n",
       "      <td>0</td>\n",
       "      <td>0</td>\n",
       "      <td>0</td>\n",
       "      <td>0</td>\n",
       "    </tr>\n",
       "    <tr>\n",
       "      <th>...</th>\n",
       "      <td>...</td>\n",
       "      <td>...</td>\n",
       "      <td>...</td>\n",
       "      <td>...</td>\n",
       "      <td>...</td>\n",
       "      <td>...</td>\n",
       "      <td>...</td>\n",
       "      <td>...</td>\n",
       "      <td>...</td>\n",
       "      <td>...</td>\n",
       "      <td>...</td>\n",
       "      <td>...</td>\n",
       "      <td>...</td>\n",
       "      <td>...</td>\n",
       "      <td>...</td>\n",
       "    </tr>\n",
       "    <tr>\n",
       "      <th>99994</th>\n",
       "      <td>36.0</td>\n",
       "      <td>0</td>\n",
       "      <td>0</td>\n",
       "      <td>24.60</td>\n",
       "      <td>4.8</td>\n",
       "      <td>145</td>\n",
       "      <td>1</td>\n",
       "      <td>0</td>\n",
       "      <td>0</td>\n",
       "      <td>1</td>\n",
       "      <td>0</td>\n",
       "      <td>0</td>\n",
       "      <td>0</td>\n",
       "      <td>0</td>\n",
       "      <td>0</td>\n",
       "    </tr>\n",
       "    <tr>\n",
       "      <th>99996</th>\n",
       "      <td>2.0</td>\n",
       "      <td>0</td>\n",
       "      <td>0</td>\n",
       "      <td>17.37</td>\n",
       "      <td>6.5</td>\n",
       "      <td>100</td>\n",
       "      <td>1</td>\n",
       "      <td>0</td>\n",
       "      <td>0</td>\n",
       "      <td>1</td>\n",
       "      <td>0</td>\n",
       "      <td>0</td>\n",
       "      <td>0</td>\n",
       "      <td>0</td>\n",
       "      <td>0</td>\n",
       "    </tr>\n",
       "    <tr>\n",
       "      <th>99997</th>\n",
       "      <td>66.0</td>\n",
       "      <td>0</td>\n",
       "      <td>0</td>\n",
       "      <td>27.83</td>\n",
       "      <td>5.7</td>\n",
       "      <td>155</td>\n",
       "      <td>0</td>\n",
       "      <td>1</td>\n",
       "      <td>0</td>\n",
       "      <td>0</td>\n",
       "      <td>0</td>\n",
       "      <td>0</td>\n",
       "      <td>1</td>\n",
       "      <td>0</td>\n",
       "      <td>0</td>\n",
       "    </tr>\n",
       "    <tr>\n",
       "      <th>99998</th>\n",
       "      <td>24.0</td>\n",
       "      <td>0</td>\n",
       "      <td>0</td>\n",
       "      <td>35.42</td>\n",
       "      <td>4.0</td>\n",
       "      <td>100</td>\n",
       "      <td>1</td>\n",
       "      <td>0</td>\n",
       "      <td>0</td>\n",
       "      <td>0</td>\n",
       "      <td>0</td>\n",
       "      <td>0</td>\n",
       "      <td>0</td>\n",
       "      <td>1</td>\n",
       "      <td>0</td>\n",
       "    </tr>\n",
       "    <tr>\n",
       "      <th>99999</th>\n",
       "      <td>57.0</td>\n",
       "      <td>0</td>\n",
       "      <td>0</td>\n",
       "      <td>22.43</td>\n",
       "      <td>6.6</td>\n",
       "      <td>90</td>\n",
       "      <td>1</td>\n",
       "      <td>0</td>\n",
       "      <td>0</td>\n",
       "      <td>0</td>\n",
       "      <td>1</td>\n",
       "      <td>0</td>\n",
       "      <td>0</td>\n",
       "      <td>0</td>\n",
       "      <td>0</td>\n",
       "    </tr>\n",
       "  </tbody>\n",
       "</table>\n",
       "<p>96146 rows × 15 columns</p>\n",
       "</div>"
      ],
      "text/plain": [
       "        age  hypertension  heart_disease    bmi  HbA1c_level  \\\n",
       "0      80.0             0              1  25.19          6.6   \n",
       "1      54.0             0              0  27.32          6.6   \n",
       "2      28.0             0              0  27.32          5.7   \n",
       "3      36.0             0              0  23.45          5.0   \n",
       "4      76.0             1              1  20.14          4.8   \n",
       "...     ...           ...            ...    ...          ...   \n",
       "99994  36.0             0              0  24.60          4.8   \n",
       "99996   2.0             0              0  17.37          6.5   \n",
       "99997  66.0             0              0  27.83          5.7   \n",
       "99998  24.0             0              0  35.42          4.0   \n",
       "99999  57.0             0              0  22.43          6.6   \n",
       "\n",
       "       blood_glucose_level  gender_Female  gender_Male  gender_Other  \\\n",
       "0                      140              1            0             0   \n",
       "1                       80              1            0             0   \n",
       "2                      158              0            1             0   \n",
       "3                      155              1            0             0   \n",
       "4                      155              0            1             0   \n",
       "...                    ...            ...          ...           ...   \n",
       "99994                  145              1            0             0   \n",
       "99996                  100              1            0             0   \n",
       "99997                  155              0            1             0   \n",
       "99998                  100              1            0             0   \n",
       "99999                   90              1            0             0   \n",
       "\n",
       "       smoking_history_No Info  smoking_history_current  smoking_history_ever  \\\n",
       "0                            0                        0                     0   \n",
       "1                            1                        0                     0   \n",
       "2                            0                        0                     0   \n",
       "3                            0                        1                     0   \n",
       "4                            0                        1                     0   \n",
       "...                        ...                      ...                   ...   \n",
       "99994                        1                        0                     0   \n",
       "99996                        1                        0                     0   \n",
       "99997                        0                        0                     0   \n",
       "99998                        0                        0                     0   \n",
       "99999                        0                        1                     0   \n",
       "\n",
       "       smoking_history_former  smoking_history_never  \\\n",
       "0                           0                      1   \n",
       "1                           0                      0   \n",
       "2                           0                      1   \n",
       "3                           0                      0   \n",
       "4                           0                      0   \n",
       "...                       ...                    ...   \n",
       "99994                       0                      0   \n",
       "99996                       0                      0   \n",
       "99997                       1                      0   \n",
       "99998                       0                      1   \n",
       "99999                       0                      0   \n",
       "\n",
       "       smoking_history_not current  \n",
       "0                                0  \n",
       "1                                0  \n",
       "2                                0  \n",
       "3                                0  \n",
       "4                                0  \n",
       "...                            ...  \n",
       "99994                            0  \n",
       "99996                            0  \n",
       "99997                            0  \n",
       "99998                            0  \n",
       "99999                            0  \n",
       "\n",
       "[96146 rows x 15 columns]"
      ]
     },
     "execution_count": 6,
     "metadata": {},
     "output_type": "execute_result"
    }
   ],
   "source": [
    "x = pd.get_dummies(x)\n",
    "x"
   ]
  },
  {
   "cell_type": "code",
   "execution_count": 7,
   "id": "2548d875-9d4f-4ba3-a4c5-ec5e1b6c6474",
   "metadata": {},
   "outputs": [],
   "source": [
    "from sklearn.preprocessing import LabelEncoder"
   ]
  },
  {
   "cell_type": "code",
   "execution_count": 8,
   "id": "907cee7a-b587-4ae5-9d86-8f03a93da8c4",
   "metadata": {},
   "outputs": [
    {
     "data": {
      "text/plain": [
       "array([0, 0, 0, ..., 0, 0, 0], dtype=int64)"
      ]
     },
     "execution_count": 8,
     "metadata": {},
     "output_type": "execute_result"
    }
   ],
   "source": [
    "L = LabelEncoder()\n",
    "y = L.fit_transform(y)\n",
    "y"
   ]
  },
  {
   "cell_type": "markdown",
   "id": "6fb1a97e-cf91-4434-bc80-6b13b2dbee23",
   "metadata": {},
   "source": [
    "### **data split**"
   ]
  },
  {
   "cell_type": "code",
   "execution_count": 9,
   "id": "d272d136-035b-44c6-8a38-95e7d66c752a",
   "metadata": {},
   "outputs": [],
   "source": [
    "from sklearn.model_selection import train_test_split"
   ]
  },
  {
   "cell_type": "code",
   "execution_count": 10,
   "id": "f75b81ad-df34-4ab4-a01c-9cb7296ad216",
   "metadata": {},
   "outputs": [],
   "source": [
    "X_train, X_test, y_train, y_test = train_test_split(x, y, test_size=0.3)"
   ]
  },
  {
   "cell_type": "markdown",
   "id": "3cb177db-fbe6-43dc-bae3-7303c6d09502",
   "metadata": {},
   "source": [
    "### **standarisasi**"
   ]
  },
  {
   "cell_type": "code",
   "execution_count": 11,
   "id": "040dbf03-3458-4928-b089-78d3e673dd88",
   "metadata": {},
   "outputs": [],
   "source": [
    "from sklearn.preprocessing import StandardScaler\n",
    "ss = StandardScaler()"
   ]
  },
  {
   "cell_type": "code",
   "execution_count": 12,
   "id": "f44b89a3-ca50-4dd5-824f-a10068b2e136",
   "metadata": {},
   "outputs": [],
   "source": [
    "X_scaled_train = ss.fit_transform(X_train)\n",
    "X_scaled_test = ss.fit_transform(X_test)"
   ]
  },
  {
   "cell_type": "markdown",
   "id": "602bb5ba-5058-486d-8916-faa2ed1d3c6f",
   "metadata": {},
   "source": [
    "### **modeling**"
   ]
  },
  {
   "cell_type": "code",
   "execution_count": 13,
   "id": "22847db9-e890-4240-afad-66128bf0dcd6",
   "metadata": {},
   "outputs": [],
   "source": [
    "from keras import Sequential\n",
    "from keras.layers import Dense"
   ]
  },
  {
   "cell_type": "code",
   "execution_count": 14,
   "id": "ff20ca78-c172-4f39-9d65-b5d1751bcf51",
   "metadata": {},
   "outputs": [
    {
     "name": "stdout",
     "output_type": "stream",
     "text": [
      "<class 'pandas.core.frame.DataFrame'>\n",
      "Int64Index: 96146 entries, 0 to 99999\n",
      "Data columns (total 15 columns):\n",
      " #   Column                       Non-Null Count  Dtype  \n",
      "---  ------                       --------------  -----  \n",
      " 0   age                          96146 non-null  float64\n",
      " 1   hypertension                 96146 non-null  int64  \n",
      " 2   heart_disease                96146 non-null  int64  \n",
      " 3   bmi                          96146 non-null  float64\n",
      " 4   HbA1c_level                  96146 non-null  float64\n",
      " 5   blood_glucose_level          96146 non-null  int64  \n",
      " 6   gender_Female                96146 non-null  uint8  \n",
      " 7   gender_Male                  96146 non-null  uint8  \n",
      " 8   gender_Other                 96146 non-null  uint8  \n",
      " 9   smoking_history_No Info      96146 non-null  uint8  \n",
      " 10  smoking_history_current      96146 non-null  uint8  \n",
      " 11  smoking_history_ever         96146 non-null  uint8  \n",
      " 12  smoking_history_former       96146 non-null  uint8  \n",
      " 13  smoking_history_never        96146 non-null  uint8  \n",
      " 14  smoking_history_not current  96146 non-null  uint8  \n",
      "dtypes: float64(3), int64(3), uint8(9)\n",
      "memory usage: 6.0 MB\n"
     ]
    }
   ],
   "source": [
    "x.info()"
   ]
  },
  {
   "cell_type": "code",
   "execution_count": 15,
   "id": "fee9dff8-2752-409c-a92e-08f8dde2389c",
   "metadata": {},
   "outputs": [],
   "source": [
    "model = Sequential()\n",
    "\n",
    "model.add(Dense(16, activation='relu', input_dim=15))\n",
    "\n",
    "model.add(Dense(32, activation='relu'))\n",
    "model.add(Dense(64, activation='relu'))\n",
    "\n",
    "model.add(Dense(1, activation='sigmoid'))"
   ]
  },
  {
   "cell_type": "markdown",
   "id": "207ed91b-5643-4cba-ba92-83a71bf73ff3",
   "metadata": {},
   "source": [
    "input_dim = 15 karena ada 15 kolom/atribut"
   ]
  },
  {
   "cell_type": "markdown",
   "id": "91e886db-161f-4447-ae44-15b855e4cc44",
   "metadata": {},
   "source": [
    "output layer menggunakan activation sigmoid dan menggunakan 1 neuron karena target hanya memiliki dua kelas"
   ]
  },
  {
   "cell_type": "code",
   "execution_count": 16,
   "id": "efe2c44b-0fa8-4d93-8574-78200729cca1",
   "metadata": {},
   "outputs": [
    {
     "name": "stdout",
     "output_type": "stream",
     "text": [
      "Model: \"sequential\"\n",
      "_________________________________________________________________\n",
      " Layer (type)                Output Shape              Param #   \n",
      "=================================================================\n",
      " dense (Dense)               (None, 16)                256       \n",
      "                                                                 \n",
      " dense_1 (Dense)             (None, 32)                544       \n",
      "                                                                 \n",
      " dense_2 (Dense)             (None, 64)                2112      \n",
      "                                                                 \n",
      " dense_3 (Dense)             (None, 1)                 65        \n",
      "                                                                 \n",
      "=================================================================\n",
      "Total params: 2977 (11.63 KB)\n",
      "Trainable params: 2977 (11.63 KB)\n",
      "Non-trainable params: 0 (0.00 Byte)\n",
      "_________________________________________________________________\n"
     ]
    }
   ],
   "source": [
    "model.summary()"
   ]
  },
  {
   "cell_type": "markdown",
   "id": "e0da1aa4-0ddb-41ff-8a7c-b6c888c63552",
   "metadata": {},
   "source": [
    "### **training model**"
   ]
  },
  {
   "cell_type": "code",
   "execution_count": 17,
   "id": "120bd4a4-9ad4-40f0-b51b-0de9ba5d26ac",
   "metadata": {},
   "outputs": [],
   "source": [
    "from keras.optimizers import Adam\n",
    "from keras.losses import binary_crossentropy"
   ]
  },
  {
   "cell_type": "code",
   "execution_count": 18,
   "id": "48dc48e7-b468-49f5-9137-9af1252f0f23",
   "metadata": {},
   "outputs": [],
   "source": [
    "model.compile(optimizer='Adam', loss='binary_crossentropy', metrics=['accuracy'])"
   ]
  },
  {
   "cell_type": "markdown",
   "id": "109d6f66-2a73-4fac-a62a-d2d046581b95",
   "metadata": {},
   "source": [
    "menggunakan binary_crossentropy karena target hanya memiliki dua kelas"
   ]
  },
  {
   "cell_type": "code",
   "execution_count": 19,
   "id": "7d974f37-e83a-45a2-a59e-2724949adb74",
   "metadata": {},
   "outputs": [],
   "source": [
    "from keras.callbacks import EarlyStopping\n",
    "monitor_callbacks = EarlyStopping(monitor='val_accuracy', patience=10)"
   ]
  },
  {
   "cell_type": "code",
   "execution_count": 20,
   "id": "0eeedfaa-0bc5-49ec-a161-ff6c7869f322",
   "metadata": {},
   "outputs": [
    {
     "name": "stdout",
     "output_type": "stream",
     "text": [
      "Epoch 1/100\n",
      "2104/2104 [==============================] - 17s 5ms/step - loss: 0.1411 - accuracy: 0.9511 - val_loss: 0.1225 - val_accuracy: 0.9556\n",
      "Epoch 2/100\n",
      "2104/2104 [==============================] - 11s 5ms/step - loss: 0.1159 - accuracy: 0.9595 - val_loss: 0.1055 - val_accuracy: 0.9626\n",
      "Epoch 3/100\n",
      "2104/2104 [==============================] - 10s 5ms/step - loss: 0.1072 - accuracy: 0.9625 - val_loss: 0.0986 - val_accuracy: 0.9647\n",
      "Epoch 4/100\n",
      "2104/2104 [==============================] - 11s 5ms/step - loss: 0.0979 - accuracy: 0.9656 - val_loss: 0.0936 - val_accuracy: 0.9683\n",
      "Epoch 5/100\n",
      "2104/2104 [==============================] - 11s 5ms/step - loss: 0.0924 - accuracy: 0.9681 - val_loss: 0.0882 - val_accuracy: 0.9696\n",
      "Epoch 6/100\n",
      "2104/2104 [==============================] - 11s 5ms/step - loss: 0.0906 - accuracy: 0.9687 - val_loss: 0.0862 - val_accuracy: 0.9706\n",
      "Epoch 7/100\n",
      "2104/2104 [==============================] - 11s 5ms/step - loss: 0.0891 - accuracy: 0.9690 - val_loss: 0.0873 - val_accuracy: 0.9686\n",
      "Epoch 8/100\n",
      "2104/2104 [==============================] - 11s 5ms/step - loss: 0.0882 - accuracy: 0.9694 - val_loss: 0.0860 - val_accuracy: 0.9713\n",
      "Epoch 9/100\n",
      "2104/2104 [==============================] - 11s 5ms/step - loss: 0.0881 - accuracy: 0.9695 - val_loss: 0.0836 - val_accuracy: 0.9706\n",
      "Epoch 10/100\n",
      "2104/2104 [==============================] - 12s 6ms/step - loss: 0.0875 - accuracy: 0.9696 - val_loss: 0.0830 - val_accuracy: 0.9714\n",
      "Epoch 11/100\n",
      "2104/2104 [==============================] - 12s 6ms/step - loss: 0.0876 - accuracy: 0.9695 - val_loss: 0.0831 - val_accuracy: 0.9714\n",
      "Epoch 12/100\n",
      "2104/2104 [==============================] - 12s 5ms/step - loss: 0.0868 - accuracy: 0.9700 - val_loss: 0.0831 - val_accuracy: 0.9717\n",
      "Epoch 13/100\n",
      "2104/2104 [==============================] - 11s 5ms/step - loss: 0.0869 - accuracy: 0.9699 - val_loss: 0.0847 - val_accuracy: 0.9712\n",
      "Epoch 14/100\n",
      "2104/2104 [==============================] - 12s 6ms/step - loss: 0.0867 - accuracy: 0.9699 - val_loss: 0.0830 - val_accuracy: 0.9714\n",
      "Epoch 15/100\n",
      "2104/2104 [==============================] - 12s 6ms/step - loss: 0.0861 - accuracy: 0.9701 - val_loss: 0.0830 - val_accuracy: 0.9715\n",
      "Epoch 16/100\n",
      "2104/2104 [==============================] - 12s 5ms/step - loss: 0.0864 - accuracy: 0.9699 - val_loss: 0.0875 - val_accuracy: 0.9686\n",
      "Epoch 17/100\n",
      "2104/2104 [==============================] - 12s 6ms/step - loss: 0.0861 - accuracy: 0.9700 - val_loss: 0.0824 - val_accuracy: 0.9716\n",
      "Epoch 18/100\n",
      "2104/2104 [==============================] - 11s 5ms/step - loss: 0.0859 - accuracy: 0.9700 - val_loss: 0.0823 - val_accuracy: 0.9712\n",
      "Epoch 19/100\n",
      "2104/2104 [==============================] - 11s 5ms/step - loss: 0.0860 - accuracy: 0.9700 - val_loss: 0.0825 - val_accuracy: 0.9715\n",
      "Epoch 20/100\n",
      "2104/2104 [==============================] - 12s 6ms/step - loss: 0.0856 - accuracy: 0.9702 - val_loss: 0.0826 - val_accuracy: 0.9718\n",
      "Epoch 21/100\n",
      "2104/2104 [==============================] - 12s 5ms/step - loss: 0.0857 - accuracy: 0.9698 - val_loss: 0.0827 - val_accuracy: 0.9705\n",
      "Epoch 22/100\n",
      "2104/2104 [==============================] - 12s 5ms/step - loss: 0.0853 - accuracy: 0.9701 - val_loss: 0.0824 - val_accuracy: 0.9719\n",
      "Epoch 23/100\n",
      "2104/2104 [==============================] - 12s 6ms/step - loss: 0.0855 - accuracy: 0.9703 - val_loss: 0.0825 - val_accuracy: 0.9716\n",
      "Epoch 24/100\n",
      "2104/2104 [==============================] - 12s 6ms/step - loss: 0.0853 - accuracy: 0.9702 - val_loss: 0.0825 - val_accuracy: 0.9715\n",
      "Epoch 25/100\n",
      "2104/2104 [==============================] - 12s 6ms/step - loss: 0.0854 - accuracy: 0.9700 - val_loss: 0.0835 - val_accuracy: 0.9708\n",
      "Epoch 26/100\n",
      "2104/2104 [==============================] - 12s 6ms/step - loss: 0.0849 - accuracy: 0.9703 - val_loss: 0.0825 - val_accuracy: 0.9713\n",
      "Epoch 27/100\n",
      "2104/2104 [==============================] - 12s 6ms/step - loss: 0.0851 - accuracy: 0.9702 - val_loss: 0.0822 - val_accuracy: 0.9717\n",
      "Epoch 28/100\n",
      "2104/2104 [==============================] - 12s 5ms/step - loss: 0.0849 - accuracy: 0.9705 - val_loss: 0.0817 - val_accuracy: 0.9714\n",
      "Epoch 29/100\n",
      "2104/2104 [==============================] - 12s 6ms/step - loss: 0.0847 - accuracy: 0.9702 - val_loss: 0.0832 - val_accuracy: 0.9717\n",
      "Epoch 30/100\n",
      "2104/2104 [==============================] - 12s 6ms/step - loss: 0.0851 - accuracy: 0.9703 - val_loss: 0.0818 - val_accuracy: 0.9716\n",
      "Epoch 31/100\n",
      "2104/2104 [==============================] - 12s 6ms/step - loss: 0.0850 - accuracy: 0.9701 - val_loss: 0.0837 - val_accuracy: 0.9708\n",
      "Epoch 32/100\n",
      "2104/2104 [==============================] - 12s 6ms/step - loss: 0.0844 - accuracy: 0.9703 - val_loss: 0.0835 - val_accuracy: 0.9716\n"
     ]
    }
   ],
   "source": [
    "model_training = model.fit(\n",
    "                    x = X_scaled_train,\n",
    "                    y = y_train,\n",
    "                    validation_data=(X_scaled_test, y_test),\n",
    "                    epochs=100,\n",
    "                    verbose=1,\n",
    "                    callbacks=[monitor_callbacks]\n",
    "                )"
   ]
  },
  {
   "cell_type": "markdown",
   "id": "723c1278-d22b-44c6-821d-df43657e80ff",
   "metadata": {},
   "source": [
    "### **model evaluation**"
   ]
  },
  {
   "cell_type": "code",
   "execution_count": 31,
   "id": "dc90f296-6597-4e06-841c-b5fbe30fc277",
   "metadata": {},
   "outputs": [
    {
     "name": "stdout",
     "output_type": "stream",
     "text": [
      "902/902 [==============================] - 4s 4ms/step - loss: 0.0835 - accuracy: 0.9716\n",
      "test loss =  0.08354289084672928\n",
      "test accuracy =  0.9715712070465088\n"
     ]
    }
   ],
   "source": [
    "score = model.evaluate(X_scaled_test, y_test)\n",
    "print(\"test loss = \", score[0])\n",
    "print(\"test accuracy = \", score[1])"
   ]
  },
  {
   "cell_type": "markdown",
   "id": "1033c1af-3a52-4842-9fb6-3791a69ff869",
   "metadata": {},
   "source": [
    "### **grafik**"
   ]
  },
  {
   "cell_type": "code",
   "execution_count": 22,
   "id": "834e4cd3-7739-4fb9-878a-5769c48bb5a9",
   "metadata": {},
   "outputs": [],
   "source": [
    "import matplotlib.pyplot as plt"
   ]
  },
  {
   "cell_type": "code",
   "execution_count": 30,
   "id": "d50cb98e-f78f-4954-8a6b-262ed4cfad2f",
   "metadata": {},
   "outputs": [
    {
     "data": {
      "text/plain": [
       "Text(0, 0.5, 'loss')"
      ]
     },
     "execution_count": 30,
     "metadata": {},
     "output_type": "execute_result"
    },
    {
     "data": {
      "image/png": "[encoded data removed]",
      "text/plain": [
       "<Figure size 1000x500 with 2 Axes>"
      ]
     },
     "metadata": {},
     "output_type": "display_data"
    }
   ],
   "source": [
    "plt.figure(figsize=(10,5))\n",
    "plt.subplot(1, 2, 1)\n",
    "plt.plot(model_training.history['accuracy'], label='accuracy')\n",
    "plt.plot(model_training.history['val_accuracy'], label = 'validation accuracy')\n",
    "plt.legend()\n",
    "plt.title(\"model accuracy\")\n",
    "plt.xlabel(\"epochs\")\n",
    "plt.ylabel(\"accuracy\")\n",
    "\n",
    "plt.subplot(1, 2, 2)\n",
    "plt.plot(model_training.history['loss'], label='loss')\n",
    "plt.plot(model_training.history['val_loss'], label = 'validation loss')\n",
    "plt.legend()\n",
    "plt.title(\"model loss\")\n",
    "plt.xlabel(\"epochs\")\n",
    "plt.ylabel(\"loss\")"
   ]
  }
 ],
 "metadata": {
  "kernelspec": {
   "display_name": "Python 3 (ipykernel)",
   "language": "python",
   "name": "python3"
  },
  "language_info": {
   "codemirror_mode": {
    "name": "ipython",
    "version": 3
   },
   "file_extension": ".py",
   "mimetype": "text/x-python",
   "name": "python",
   "nbconvert_exporter": "python",
   "pygments_lexer": "ipython3",
   "version": "3.10.7"
  }
 },
 "nbformat": 4,
 "nbformat_minor": 5
}
